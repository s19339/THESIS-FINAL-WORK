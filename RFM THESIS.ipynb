{
 "cells": [
  {
   "cell_type": "code",
   "execution_count": 1,
   "metadata": {},
   "outputs": [],
   "source": [
    "#Importing necessary libraries\n",
    "import numpy as np\n",
    "import pandas as pd\n",
    "import sklearn\n",
    "import datetime as dt\n",
    "import seaborn as sns\n",
    "import matplotlib.pyplot as plt\n",
    "import time as t\n",
    "from sklearn.preprocessing import StandardScaler\n",
    "from sklearn.metrics import silhouette_score\n",
    "from sklearn.cluster import KMeans\n",
    "from scipy.cluster.hierarchy import dendrogram\n",
    "from scipy.cluster.hierarchy import linkage\n",
    "from scipy.cluster.hierarchy import cut_tree"
   ]
  },
  {
   "cell_type": "code",
   "execution_count": 2,
   "metadata": {},
   "outputs": [
    {
     "name": "stdout",
     "output_type": "stream",
     "text": [
      "Wall time: 545 ms\n"
     ]
    },
    {
     "data": {
      "text/html": [
       "<div>\n",
       "<style scoped>\n",
       "    .dataframe tbody tr th:only-of-type {\n",
       "        vertical-align: middle;\n",
       "    }\n",
       "\n",
       "    .dataframe tbody tr th {\n",
       "        vertical-align: top;\n",
       "    }\n",
       "\n",
       "    .dataframe thead th {\n",
       "        text-align: right;\n",
       "    }\n",
       "</style>\n",
       "<table border=\"1\" class=\"dataframe\">\n",
       "  <thead>\n",
       "    <tr style=\"text-align: right;\">\n",
       "      <th></th>\n",
       "      <th>InvoiceNo</th>\n",
       "      <th>StockCode</th>\n",
       "      <th>Description</th>\n",
       "      <th>Quantity</th>\n",
       "      <th>InvoiceDate</th>\n",
       "      <th>UnitPrice</th>\n",
       "      <th>CustomerID</th>\n",
       "      <th>Country</th>\n",
       "    </tr>\n",
       "  </thead>\n",
       "  <tbody>\n",
       "    <tr>\n",
       "      <th>0</th>\n",
       "      <td>536365</td>\n",
       "      <td>85123A</td>\n",
       "      <td>WHITE HANGING HEART T-LIGHT HOLDER</td>\n",
       "      <td>6</td>\n",
       "      <td>01-12-2010 08:26</td>\n",
       "      <td>2.55</td>\n",
       "      <td>17850.0</td>\n",
       "      <td>United Kingdom</td>\n",
       "    </tr>\n",
       "    <tr>\n",
       "      <th>1</th>\n",
       "      <td>536365</td>\n",
       "      <td>71053</td>\n",
       "      <td>WHITE METAL LANTERN</td>\n",
       "      <td>6</td>\n",
       "      <td>01-12-2010 08:26</td>\n",
       "      <td>3.39</td>\n",
       "      <td>17850.0</td>\n",
       "      <td>United Kingdom</td>\n",
       "    </tr>\n",
       "    <tr>\n",
       "      <th>2</th>\n",
       "      <td>536365</td>\n",
       "      <td>84406B</td>\n",
       "      <td>CREAM CUPID HEARTS COAT HANGER</td>\n",
       "      <td>8</td>\n",
       "      <td>01-12-2010 08:26</td>\n",
       "      <td>2.75</td>\n",
       "      <td>17850.0</td>\n",
       "      <td>United Kingdom</td>\n",
       "    </tr>\n",
       "    <tr>\n",
       "      <th>3</th>\n",
       "      <td>536365</td>\n",
       "      <td>84029G</td>\n",
       "      <td>KNITTED UNION FLAG HOT WATER BOTTLE</td>\n",
       "      <td>6</td>\n",
       "      <td>01-12-2010 08:26</td>\n",
       "      <td>3.39</td>\n",
       "      <td>17850.0</td>\n",
       "      <td>United Kingdom</td>\n",
       "    </tr>\n",
       "    <tr>\n",
       "      <th>4</th>\n",
       "      <td>536365</td>\n",
       "      <td>84029E</td>\n",
       "      <td>RED WOOLLY HOTTIE WHITE HEART.</td>\n",
       "      <td>6</td>\n",
       "      <td>01-12-2010 08:26</td>\n",
       "      <td>3.39</td>\n",
       "      <td>17850.0</td>\n",
       "      <td>United Kingdom</td>\n",
       "    </tr>\n",
       "  </tbody>\n",
       "</table>\n",
       "</div>"
      ],
      "text/plain": [
       "  InvoiceNo StockCode                          Description  Quantity  \\\n",
       "0    536365    85123A   WHITE HANGING HEART T-LIGHT HOLDER         6   \n",
       "1    536365     71053                  WHITE METAL LANTERN         6   \n",
       "2    536365    84406B       CREAM CUPID HEARTS COAT HANGER         8   \n",
       "3    536365    84029G  KNITTED UNION FLAG HOT WATER BOTTLE         6   \n",
       "4    536365    84029E       RED WOOLLY HOTTIE WHITE HEART.         6   \n",
       "\n",
       "        InvoiceDate  UnitPrice  CustomerID         Country  \n",
       "0  01-12-2010 08:26       2.55     17850.0  United Kingdom  \n",
       "1  01-12-2010 08:26       3.39     17850.0  United Kingdom  \n",
       "2  01-12-2010 08:26       2.75     17850.0  United Kingdom  \n",
       "3  01-12-2010 08:26       3.39     17850.0  United Kingdom  \n",
       "4  01-12-2010 08:26       3.39     17850.0  United Kingdom  "
      ]
     },
     "execution_count": 2,
     "metadata": {},
     "output_type": "execute_result"
    }
   ],
   "source": [
    "%%time\n",
    "#Visualization of data set\n",
    "data = pd.read_csv('OnlineRetail.csv', sep=\",\", header=0, encoding=\"ISO-8859-1\")\n",
    "data.head()"
   ]
  },
  {
   "cell_type": "code",
   "execution_count": 3,
   "metadata": {},
   "outputs": [
    {
     "data": {
      "text/html": [
       "<div>\n",
       "<style scoped>\n",
       "    .dataframe tbody tr th:only-of-type {\n",
       "        vertical-align: middle;\n",
       "    }\n",
       "\n",
       "    .dataframe tbody tr th {\n",
       "        vertical-align: top;\n",
       "    }\n",
       "\n",
       "    .dataframe thead th {\n",
       "        text-align: right;\n",
       "    }\n",
       "</style>\n",
       "<table border=\"1\" class=\"dataframe\">\n",
       "  <thead>\n",
       "    <tr style=\"text-align: right;\">\n",
       "      <th></th>\n",
       "      <th>Quantity</th>\n",
       "      <th>UnitPrice</th>\n",
       "      <th>CustomerID</th>\n",
       "    </tr>\n",
       "  </thead>\n",
       "  <tbody>\n",
       "    <tr>\n",
       "      <th>count</th>\n",
       "      <td>541909.000000</td>\n",
       "      <td>541909.000000</td>\n",
       "      <td>406829.000000</td>\n",
       "    </tr>\n",
       "    <tr>\n",
       "      <th>mean</th>\n",
       "      <td>9.552250</td>\n",
       "      <td>4.611114</td>\n",
       "      <td>15287.690570</td>\n",
       "    </tr>\n",
       "    <tr>\n",
       "      <th>std</th>\n",
       "      <td>218.081158</td>\n",
       "      <td>96.759853</td>\n",
       "      <td>1713.600303</td>\n",
       "    </tr>\n",
       "    <tr>\n",
       "      <th>min</th>\n",
       "      <td>-80995.000000</td>\n",
       "      <td>-11062.060000</td>\n",
       "      <td>12346.000000</td>\n",
       "    </tr>\n",
       "    <tr>\n",
       "      <th>25%</th>\n",
       "      <td>1.000000</td>\n",
       "      <td>1.250000</td>\n",
       "      <td>13953.000000</td>\n",
       "    </tr>\n",
       "    <tr>\n",
       "      <th>50%</th>\n",
       "      <td>3.000000</td>\n",
       "      <td>2.080000</td>\n",
       "      <td>15152.000000</td>\n",
       "    </tr>\n",
       "    <tr>\n",
       "      <th>75%</th>\n",
       "      <td>10.000000</td>\n",
       "      <td>4.130000</td>\n",
       "      <td>16791.000000</td>\n",
       "    </tr>\n",
       "    <tr>\n",
       "      <th>max</th>\n",
       "      <td>80995.000000</td>\n",
       "      <td>38970.000000</td>\n",
       "      <td>18287.000000</td>\n",
       "    </tr>\n",
       "  </tbody>\n",
       "</table>\n",
       "</div>"
      ],
      "text/plain": [
       "            Quantity      UnitPrice     CustomerID\n",
       "count  541909.000000  541909.000000  406829.000000\n",
       "mean        9.552250       4.611114   15287.690570\n",
       "std       218.081158      96.759853    1713.600303\n",
       "min    -80995.000000  -11062.060000   12346.000000\n",
       "25%         1.000000       1.250000   13953.000000\n",
       "50%         3.000000       2.080000   15152.000000\n",
       "75%        10.000000       4.130000   16791.000000\n",
       "max     80995.000000   38970.000000   18287.000000"
      ]
     },
     "execution_count": 3,
     "metadata": {},
     "output_type": "execute_result"
    }
   ],
   "source": [
    "#data set description\n",
    "data.describe()"
   ]
  },
  {
   "cell_type": "code",
   "execution_count": 4,
   "metadata": {},
   "outputs": [
    {
     "data": {
      "text/plain": [
       "InvoiceNo       0.00\n",
       "StockCode       0.00\n",
       "Description     0.27\n",
       "Quantity        0.00\n",
       "InvoiceDate     0.00\n",
       "UnitPrice       0.00\n",
       "CustomerID     24.93\n",
       "Country         0.00\n",
       "dtype: float64"
      ]
     },
     "execution_count": 4,
     "metadata": {},
     "output_type": "execute_result"
    }
   ],
   "source": [
    "# Calculating the Missing Values in Data frame\n",
    "\n",
    "dataframe_null = round(100*(data.isnull().sum())/len(data), 2)\n",
    "dataframe_null"
   ]
  },
  {
   "cell_type": "code",
   "execution_count": 5,
   "metadata": {},
   "outputs": [],
   "source": [
    "# Deleting rows which have missing values\n",
    "\n",
    "data = data.dropna()"
   ]
  },
  {
   "cell_type": "code",
   "execution_count": 6,
   "metadata": {},
   "outputs": [],
   "source": [
    "# creating new attribute = Monetary from quantity and unit price\n",
    "\n",
    "data['Monetary'] = data['Quantity']*data['UnitPrice']\n",
    "monetary = data.groupby('CustomerID')['Monetary'].sum()\n",
    "monetary = monetary.reset_index()"
   ]
  },
  {
   "cell_type": "code",
   "execution_count": 7,
   "metadata": {},
   "outputs": [],
   "source": [
    "# creating new attribute = frequnecy counting customer id and invoices\n",
    "frequency = data.groupby('CustomerID')['InvoiceNo'].count()\n",
    "frequency = frequency.reset_index()\n",
    "frequency.columns = ['CustomerID', 'Frequency']"
   ]
  },
  {
   "cell_type": "code",
   "execution_count": 8,
   "metadata": {},
   "outputs": [],
   "source": [
    "# creating new recency attribute.\n",
    "\n",
    "data['InvoiceDate'] = pd.to_datetime(data['InvoiceDate'],format='%d-%m-%Y %H:%M')"
   ]
  },
  {
   "cell_type": "code",
   "execution_count": 9,
   "metadata": {},
   "outputs": [
    {
     "data": {
      "text/plain": [
       "Timestamp('2011-12-09 12:50:00')"
      ]
     },
     "execution_count": 9,
     "metadata": {},
     "output_type": "execute_result"
    }
   ],
   "source": [
    "# Computing the latest date to know the last transaction date of the customer\n",
    "\n",
    "latestDate = max(data['InvoiceDate'])\n",
    "latestDate "
   ]
  },
  {
   "cell_type": "code",
   "execution_count": 10,
   "metadata": {},
   "outputs": [],
   "source": [
    "# Ccalculating the difference between last date and last transaction date\n",
    "\n",
    "data['Recency'] = latestDate - data['InvoiceDate']"
   ]
  },
  {
   "cell_type": "code",
   "execution_count": 11,
   "metadata": {},
   "outputs": [],
   "source": [
    "# Calculating receny by checking last transaction date\n",
    "\n",
    "recency = data.groupby('CustomerID')['Recency'].min()\n",
    "recency = recency.reset_index()"
   ]
  },
  {
   "cell_type": "code",
   "execution_count": 12,
   "metadata": {},
   "outputs": [
    {
     "data": {
      "text/html": [
       "<div>\n",
       "<style scoped>\n",
       "    .dataframe tbody tr th:only-of-type {\n",
       "        vertical-align: middle;\n",
       "    }\n",
       "\n",
       "    .dataframe tbody tr th {\n",
       "        vertical-align: top;\n",
       "    }\n",
       "\n",
       "    .dataframe thead th {\n",
       "        text-align: right;\n",
       "    }\n",
       "</style>\n",
       "<table border=\"1\" class=\"dataframe\">\n",
       "  <thead>\n",
       "    <tr style=\"text-align: right;\">\n",
       "      <th></th>\n",
       "      <th>CustomerID</th>\n",
       "      <th>Recency</th>\n",
       "    </tr>\n",
       "  </thead>\n",
       "  <tbody>\n",
       "    <tr>\n",
       "      <th>0</th>\n",
       "      <td>12346.0</td>\n",
       "      <td>325</td>\n",
       "    </tr>\n",
       "    <tr>\n",
       "      <th>1</th>\n",
       "      <td>12347.0</td>\n",
       "      <td>1</td>\n",
       "    </tr>\n",
       "    <tr>\n",
       "      <th>2</th>\n",
       "      <td>12348.0</td>\n",
       "      <td>74</td>\n",
       "    </tr>\n",
       "    <tr>\n",
       "      <th>3</th>\n",
       "      <td>12349.0</td>\n",
       "      <td>18</td>\n",
       "    </tr>\n",
       "    <tr>\n",
       "      <th>4</th>\n",
       "      <td>12350.0</td>\n",
       "      <td>309</td>\n",
       "    </tr>\n",
       "  </tbody>\n",
       "</table>\n",
       "</div>"
      ],
      "text/plain": [
       "   CustomerID  Recency\n",
       "0     12346.0      325\n",
       "1     12347.0        1\n",
       "2     12348.0       74\n",
       "3     12349.0       18\n",
       "4     12350.0      309"
      ]
     },
     "execution_count": 12,
     "metadata": {},
     "output_type": "execute_result"
    }
   ],
   "source": [
    "# Taking only days\n",
    "\n",
    "recency['Recency'] = recency['Recency'].dt.days\n",
    "recency.head()"
   ]
  },
  {
   "cell_type": "code",
   "execution_count": 13,
   "metadata": {},
   "outputs": [
    {
     "data": {
      "text/html": [
       "<div>\n",
       "<style scoped>\n",
       "    .dataframe tbody tr th:only-of-type {\n",
       "        vertical-align: middle;\n",
       "    }\n",
       "\n",
       "    .dataframe tbody tr th {\n",
       "        vertical-align: top;\n",
       "    }\n",
       "\n",
       "    .dataframe thead th {\n",
       "        text-align: right;\n",
       "    }\n",
       "</style>\n",
       "<table border=\"1\" class=\"dataframe\">\n",
       "  <thead>\n",
       "    <tr style=\"text-align: right;\">\n",
       "      <th></th>\n",
       "      <th>CustomerID</th>\n",
       "      <th>Monetary</th>\n",
       "      <th>Frequency</th>\n",
       "      <th>Recency</th>\n",
       "    </tr>\n",
       "  </thead>\n",
       "  <tbody>\n",
       "    <tr>\n",
       "      <th>0</th>\n",
       "      <td>12346.0</td>\n",
       "      <td>0.00</td>\n",
       "      <td>2</td>\n",
       "      <td>325</td>\n",
       "    </tr>\n",
       "    <tr>\n",
       "      <th>1</th>\n",
       "      <td>12347.0</td>\n",
       "      <td>4310.00</td>\n",
       "      <td>182</td>\n",
       "      <td>1</td>\n",
       "    </tr>\n",
       "    <tr>\n",
       "      <th>2</th>\n",
       "      <td>12348.0</td>\n",
       "      <td>1797.24</td>\n",
       "      <td>31</td>\n",
       "      <td>74</td>\n",
       "    </tr>\n",
       "    <tr>\n",
       "      <th>3</th>\n",
       "      <td>12349.0</td>\n",
       "      <td>1757.55</td>\n",
       "      <td>73</td>\n",
       "      <td>18</td>\n",
       "    </tr>\n",
       "    <tr>\n",
       "      <th>4</th>\n",
       "      <td>12350.0</td>\n",
       "      <td>334.40</td>\n",
       "      <td>17</td>\n",
       "      <td>309</td>\n",
       "    </tr>\n",
       "  </tbody>\n",
       "</table>\n",
       "</div>"
      ],
      "text/plain": [
       "   CustomerID  Monetary  Frequency  Recency\n",
       "0     12346.0      0.00          2      325\n",
       "1     12347.0   4310.00        182        1\n",
       "2     12348.0   1797.24         31       74\n",
       "3     12349.0   1757.55         73       18\n",
       "4     12350.0    334.40         17      309"
      ]
     },
     "execution_count": 13,
     "metadata": {},
     "output_type": "execute_result"
    }
   ],
   "source": [
    "# merging recency, frequency and monetary as a one data frame.\n",
    "\n",
    "mergedDateFrame = pd.merge(monetary, frequency, on='CustomerID', how='inner')\n",
    "mergedDateFrame = pd.merge(mergedDateFrame, recency, on='CustomerID', how='inner')\n",
    "mergedDateFrame.columns = ['CustomerID', 'Monetary', 'Frequency', 'Recency']\n",
    "mergedDateFrame.head()"
   ]
  },
  {
   "cell_type": "code",
   "execution_count": 14,
   "metadata": {},
   "outputs": [
    {
     "data": {
      "text/plain": [
       "Text(0.5, 0, 'RFM Attributes')"
      ]
     },
     "execution_count": 14,
     "metadata": {},
     "output_type": "execute_result"
    },
    {
     "data": {
      "image/png": "[encoded data removed]",
      "text/plain": [
       "<Figure size 576x432 with 1 Axes>"
      ]
     },
     "metadata": {
      "needs_background": "light"
     },
     "output_type": "display_data"
    }
   ],
   "source": [
    "# Analyzing Outliers for RFM.\n",
    "\n",
    "attributes = ['Monetary','Frequency','Recency']\n",
    "plt.rcParams['figure.figsize'] = [8,6]\n",
    "sns.boxplot(data = mergedDateFrame[attributes], orient=\"v\", palette=\"Set2\" ,whis=1.5,saturation=1, width=0.7)\n",
    "plt.title(\"RFM Outliers Analysis\", fontsize = 12)\n",
    "plt.ylabel(\"Range\")\n",
    "plt.xlabel(\"RFM Attributes\")"
   ]
  },
  {
   "cell_type": "code",
   "execution_count": 15,
   "metadata": {},
   "outputs": [],
   "source": [
    "\n",
    "# Removing outliers for Recency, frequncy and monetary\n",
    "Quantile1 = mergedDateFrame.Monetary.quantile(0.05)\n",
    "Quantile3 = mergedDateFrame.Monetary.quantile(0.95)\n",
    "InnerQuantileRange = Quantile3 - Quantile1\n",
    "\n",
    "mergedDateFrame = mergedDateFrame[(mergedDateFrame.Monetary >= Quantile1 - 1.5*InnerQuantileRange) & (mergedDateFrame.Monetary <= Quantile3 + 1.5*InnerQuantileRange)]\n",
    "Quantile1 = mergedDateFrame.Recency.quantile(0.05)\n",
    "Quantile3 = mergedDateFrame.Recency.quantile(0.95)\n",
    "InnerQuantileRange = Quantile3 - Quantile1\n",
    "mergedDateFrame = mergedDateFrame[(mergedDateFrame.Recency >= Quantile1 - 1.5*InnerQuantileRange) & (mergedDateFrame.Recency <= Quantile3 + 1.5*InnerQuantileRange)]\n",
    "\n",
    "Quantile1 = mergedDateFrame.Frequency.quantile(0.05)\n",
    "Quantile3 = mergedDateFrame.Frequency.quantile(0.95)\n",
    "InnerQuantileRange = Quantile3 - Quantile1\n",
    "mergedDateFrame = mergedDateFrame[(mergedDateFrame.Frequency >= Quantile1 - 1.5*InnerQuantileRange) & (mergedDateFrame.Frequency <= Quantile3 + 1.5*InnerQuantileRange)]\n"
   ]
  },
  {
   "cell_type": "code",
   "execution_count": 16,
   "metadata": {},
   "outputs": [
    {
     "data": {
      "text/plain": [
       "(4293, 3)"
      ]
     },
     "execution_count": 16,
     "metadata": {},
     "output_type": "execute_result"
    }
   ],
   "source": [
    "# Rescaling the merged attributes\n",
    "\n",
    "merged_DateFrame = mergedDateFrame[['Monetary', 'Frequency', 'Recency']]\n",
    "\n",
    "scaler = StandardScaler()\n",
    "\n",
    "merged_DateFrame_scaled = scaler.fit_transform(merged_DateFrame)\n",
    "merged_DateFrame_scaled.shape"
   ]
  },
  {
   "cell_type": "code",
   "execution_count": 17,
   "metadata": {},
   "outputs": [
    {
     "data": {
      "text/html": [
       "<div>\n",
       "<style scoped>\n",
       "    .dataframe tbody tr th:only-of-type {\n",
       "        vertical-align: middle;\n",
       "    }\n",
       "\n",
       "    .dataframe tbody tr th {\n",
       "        vertical-align: top;\n",
       "    }\n",
       "\n",
       "    .dataframe thead th {\n",
       "        text-align: right;\n",
       "    }\n",
       "</style>\n",
       "<table border=\"1\" class=\"dataframe\">\n",
       "  <thead>\n",
       "    <tr style=\"text-align: right;\">\n",
       "      <th></th>\n",
       "      <th>Monetary</th>\n",
       "      <th>Frequency</th>\n",
       "      <th>Recency</th>\n",
       "    </tr>\n",
       "  </thead>\n",
       "  <tbody>\n",
       "    <tr>\n",
       "      <th>0</th>\n",
       "      <td>-0.723738</td>\n",
       "      <td>-0.752888</td>\n",
       "      <td>2.301611</td>\n",
       "    </tr>\n",
       "    <tr>\n",
       "      <th>1</th>\n",
       "      <td>1.731617</td>\n",
       "      <td>1.042467</td>\n",
       "      <td>-0.906466</td>\n",
       "    </tr>\n",
       "    <tr>\n",
       "      <th>2</th>\n",
       "      <td>0.300128</td>\n",
       "      <td>-0.463636</td>\n",
       "      <td>-0.183658</td>\n",
       "    </tr>\n",
       "    <tr>\n",
       "      <th>3</th>\n",
       "      <td>0.277517</td>\n",
       "      <td>-0.044720</td>\n",
       "      <td>-0.738141</td>\n",
       "    </tr>\n",
       "    <tr>\n",
       "      <th>4</th>\n",
       "      <td>-0.533235</td>\n",
       "      <td>-0.603275</td>\n",
       "      <td>2.143188</td>\n",
       "    </tr>\n",
       "  </tbody>\n",
       "</table>\n",
       "</div>"
      ],
      "text/plain": [
       "   Monetary  Frequency   Recency\n",
       "0 -0.723738  -0.752888  2.301611\n",
       "1  1.731617   1.042467 -0.906466\n",
       "2  0.300128  -0.463636 -0.183658\n",
       "3  0.277517  -0.044720 -0.738141\n",
       "4 -0.533235  -0.603275  2.143188"
      ]
     },
     "execution_count": 17,
     "metadata": {},
     "output_type": "execute_result"
    }
   ],
   "source": [
    "# creating new scaled dataframe\n",
    "merged_DateFrame_scaled = pd.DataFrame(merged_DateFrame_scaled)\n",
    "merged_DateFrame_scaled.columns = ['Monetary', 'Frequency', 'Recency']\n",
    "merged_DateFrame_scaled.head()"
   ]
  },
  {
   "cell_type": "markdown",
   "metadata": {},
   "source": [
    "# Implementation of Algorithms\n",
    "\n",
    "After the vissualliztion and prpartion of data , we re now implementing KMeans alogorithms with randoomly chosen cluster number."
   ]
  },
  {
   "cell_type": "code",
   "execution_count": 19,
   "metadata": {},
   "outputs": [
    {
     "name": "stdout",
     "output_type": "stream",
     "text": [
      "Wall time: 103 ms\n"
     ]
    },
    {
     "data": {
      "text/plain": [
       "KMeans(algorithm='auto', copy_x=True, init='k-means++', max_iter=50,\n",
       "       n_clusters=4, n_init=10, n_jobs=None, precompute_distances='auto',\n",
       "       random_state=None, tol=0.0001, verbose=0)"
      ]
     },
     "execution_count": 19,
     "metadata": {},
     "output_type": "execute_result"
    }
   ],
   "source": [
    "%%time\n",
    "# implements k-means clustering with some random number of cluster\n",
    "kmeans_clustering = KMeans(n_clusters=4, max_iter=50)\n",
    "kmeans_clustering.fit(merged_DateFrame_scaled)"
   ]
  },
  {
   "cell_type": "markdown",
   "metadata": {},
   "source": [
    "# Evalauting Elbow Curve\n"
   ]
  },
  {
   "cell_type": "code",
   "execution_count": 21,
   "metadata": {},
   "outputs": [
    {
     "name": "stdout",
     "output_type": "stream",
     "text": [
      "Wall time: 707 ms\n"
     ]
    },
    {
     "data": {
      "text/plain": [
       "[<matplotlib.lines.Line2D at 0x251d54c24c8>]"
      ]
     },
     "execution_count": 21,
     "metadata": {},
     "output_type": "execute_result"
    },
    {
     "data": {
      "image/png": "[encoded data removed]",
      "text/plain": [
       "<Figure size 576x432 with 1 Axes>"
      ]
     },
     "metadata": {
      "needs_background": "light"
     },
     "output_type": "display_data"
    }
   ],
   "source": [
    "%%time\n",
    "\n",
    "ssd = []\n",
    "range_n_clusters = [2, 3, 4, 5, 6, 7, 8]\n",
    "for num_clusters in range_n_clusters:\n",
    "    kmeans = KMeans(n_clusters=num_clusters, max_iter=50)\n",
    "    kmeans.fit(merged_DateFrame_scaled)\n",
    "    \n",
    "    ssd.append(kmeans.inertia_)\n",
    "#plotting eblow curve    \n",
    "plt.plot(ssd)"
   ]
  },
  {
   "cell_type": "markdown",
   "metadata": {},
   "source": [
    "# Silhouette analysis "
   ]
  },
  {
   "cell_type": "code",
   "execution_count": 22,
   "metadata": {},
   "outputs": [
    {
     "name": "stdout",
     "output_type": "stream",
     "text": [
      "Number_clusters=2, the silhouette score = 0.5397106255240607\n",
      "Number_clusters=3, the silhouette score = 0.5084896296141937\n",
      "Number_clusters=4, the silhouette score = 0.4817567985759693\n",
      "Number_clusters=5, the silhouette score = 0.4659634068191317\n",
      "Number_clusters=6, the silhouette score = 0.4169897163641209\n",
      "Number_clusters=7, the silhouette score = 0.4158077420309644\n",
      "Number_clusters=8, the silhouette score = 0.3967718101061674\n"
     ]
    }
   ],
   "source": [
    "range_n_clusters = [2, 3, 4, 5, 6, 7, 8]\n",
    "\n",
    "for number_clusters in range_n_clusters:\n",
    "    \n",
    "    kmeans = KMeans(n_clusters=number_clusters, max_iter=50)\n",
    "    kmeans.fit(merged_DateFrame_scaled)\n",
    "    \n",
    "    cluster_labels = kmeans.labels_\n",
    "    \n",
    "    # silhouette score\n",
    "    silhouette_avg = silhouette_score(merged_DateFrame_scaled, cluster_labels)\n",
    "    print(\"Number_clusters={0}, the silhouette score = {1}\".format(number_clusters, silhouette_avg))"
   ]
  },
  {
   "cell_type": "markdown",
   "metadata": {},
   "source": [
    "# K-Means Model with k = 5"
   ]
  },
  {
   "cell_type": "code",
   "execution_count": 30,
   "metadata": {},
   "outputs": [
    {
     "name": "stdout",
     "output_type": "stream",
     "text": [
      "Wall time: 98 ms\n"
     ]
    },
    {
     "data": {
      "text/plain": [
       "KMeans(algorithm='auto', copy_x=True, init='k-means++', max_iter=50,\n",
       "       n_clusters=5, n_init=10, n_jobs=None, precompute_distances='auto',\n",
       "       random_state=None, tol=0.0001, verbose=0)"
      ]
     },
     "execution_count": 30,
     "metadata": {},
     "output_type": "execute_result"
    }
   ],
   "source": [
    "%%time \n",
    "#we are checking the wall time of the model\n",
    "kmeans = KMeans(n_clusters=5, max_iter=50)\n",
    "kmeans.fit(merged_DateFrame_scaled)"
   ]
  },
  {
   "cell_type": "code",
   "execution_count": 31,
   "metadata": {},
   "outputs": [
    {
     "name": "stdout",
     "output_type": "stream",
     "text": [
      "Wall time: 1 ms\n"
     ]
    },
    {
     "data": {
      "text/html": [
       "<div>\n",
       "<style scoped>\n",
       "    .dataframe tbody tr th:only-of-type {\n",
       "        vertical-align: middle;\n",
       "    }\n",
       "\n",
       "    .dataframe tbody tr th {\n",
       "        vertical-align: top;\n",
       "    }\n",
       "\n",
       "    .dataframe thead th {\n",
       "        text-align: right;\n",
       "    }\n",
       "</style>\n",
       "<table border=\"1\" class=\"dataframe\">\n",
       "  <thead>\n",
       "    <tr style=\"text-align: right;\">\n",
       "      <th></th>\n",
       "      <th>CustomerID</th>\n",
       "      <th>Monetary</th>\n",
       "      <th>Frequency</th>\n",
       "      <th>Recency</th>\n",
       "      <th>Cluster_Id</th>\n",
       "    </tr>\n",
       "  </thead>\n",
       "  <tbody>\n",
       "    <tr>\n",
       "      <th>0</th>\n",
       "      <td>12346.0</td>\n",
       "      <td>0.00</td>\n",
       "      <td>2</td>\n",
       "      <td>325</td>\n",
       "      <td>0</td>\n",
       "    </tr>\n",
       "    <tr>\n",
       "      <th>1</th>\n",
       "      <td>12347.0</td>\n",
       "      <td>4310.00</td>\n",
       "      <td>182</td>\n",
       "      <td>1</td>\n",
       "      <td>4</td>\n",
       "    </tr>\n",
       "    <tr>\n",
       "      <th>2</th>\n",
       "      <td>12348.0</td>\n",
       "      <td>1797.24</td>\n",
       "      <td>31</td>\n",
       "      <td>74</td>\n",
       "      <td>2</td>\n",
       "    </tr>\n",
       "    <tr>\n",
       "      <th>3</th>\n",
       "      <td>12349.0</td>\n",
       "      <td>1757.55</td>\n",
       "      <td>73</td>\n",
       "      <td>18</td>\n",
       "      <td>2</td>\n",
       "    </tr>\n",
       "    <tr>\n",
       "      <th>4</th>\n",
       "      <td>12350.0</td>\n",
       "      <td>334.40</td>\n",
       "      <td>17</td>\n",
       "      <td>309</td>\n",
       "      <td>0</td>\n",
       "    </tr>\n",
       "  </tbody>\n",
       "</table>\n",
       "</div>"
      ],
      "text/plain": [
       "   CustomerID  Monetary  Frequency  Recency  Cluster_Id\n",
       "0     12346.0      0.00          2      325           0\n",
       "1     12347.0   4310.00        182        1           4\n",
       "2     12348.0   1797.24         31       74           2\n",
       "3     12349.0   1757.55         73       18           2\n",
       "4     12350.0    334.40         17      309           0"
      ]
     },
     "execution_count": 31,
     "metadata": {},
     "output_type": "execute_result"
    }
   ],
   "source": [
    "%%time\n",
    "# assigning the label to the data frame\n",
    "mergedDateFrame['Cluster_Id'] = kmeans.labels_\n",
    "mergedDateFrame.head()"
   ]
  },
  {
   "cell_type": "markdown",
   "metadata": {},
   "source": [
    "# Using Box Plot to visualise the plot of monetary vs Cluster_ID"
   ]
  },
  {
   "cell_type": "code",
   "execution_count": 32,
   "metadata": {},
   "outputs": [
    {
     "data": {
      "text/plain": [
       "<matplotlib.axes._subplots.AxesSubplot at 0x251d55169c8>"
      ]
     },
     "execution_count": 32,
     "metadata": {},
     "output_type": "execute_result"
    },
    {
     "data": {
      "image/png": "[encoded data removed]",
      "text/plain": [
       "<Figure size 576x432 with 1 Axes>"
      ]
     },
     "metadata": {
      "needs_background": "light"
     },
     "output_type": "display_data"
    }
   ],
   "source": [
    "sns.boxplot(x='Cluster_Id', y='Monetary', data=mergedDateFrame)"
   ]
  },
  {
   "cell_type": "markdown",
   "metadata": {},
   "source": [
    "# Using Box Plot to visualise the plot of Frequency vs Cluster_ID"
   ]
  },
  {
   "cell_type": "code",
   "execution_count": 33,
   "metadata": {},
   "outputs": [
    {
     "data": {
      "text/plain": [
       "<matplotlib.axes._subplots.AxesSubplot at 0x251d55bd788>"
      ]
     },
     "execution_count": 33,
     "metadata": {},
     "output_type": "execute_result"
    },
    {
     "data": {
      "image/png": "[encoded data removed]",
      "text/plain": [
       "<Figure size 576x432 with 1 Axes>"
      ]
     },
     "metadata": {
      "needs_background": "light"
     },
     "output_type": "display_data"
    }
   ],
   "source": [
    "sns.boxplot(x='Cluster_Id', y='Frequency', data=mergedDateFrame)"
   ]
  },
  {
   "cell_type": "markdown",
   "metadata": {},
   "source": [
    "# Using Box Plot to visualise the plot of Recency vs Cluster_ID"
   ]
  },
  {
   "cell_type": "code",
   "execution_count": 34,
   "metadata": {},
   "outputs": [
    {
     "data": {
      "text/plain": [
       "<matplotlib.axes._subplots.AxesSubplot at 0x251d5681208>"
      ]
     },
     "execution_count": 34,
     "metadata": {},
     "output_type": "execute_result"
    },
    {
     "data": {
      "image/png": "[encoded data removed]",
      "text/plain": [
       "<Figure size 576x432 with 1 Axes>"
      ]
     },
     "metadata": {
      "needs_background": "light"
     },
     "output_type": "display_data"
    }
   ],
   "source": [
    "sns.boxplot(x='Cluster_Id', y='Recency', data=mergedDateFrame)"
   ]
  },
  {
   "cell_type": "markdown",
   "metadata": {},
   "source": [
    "# RESULTS"
   ]
  },
  {
   "cell_type": "markdown",
   "metadata": {},
   "source": [
    "We can conclude from the following that K-Means Clustering result where five Cluster Ids is used, and that customers with Cluster Id “1” have a higher amount of transactions than other customers. Customers with Cluster Id “3” are frequent purchasers. Customers with Cluster Id “0” are not recent buyers and, as a result, are not as important to the business as customer with clusters. So, it is more profitable to focus on customer who does not fall under Cluster Id “1” and can be targeted for future new product promotion."
   ]
  },
  {
   "cell_type": "markdown",
   "metadata": {},
   "source": [
    "# Hierarchical Clustering Implementation\n"
   ]
  },
  {
   "cell_type": "markdown",
   "metadata": {},
   "source": [
    "# Single Linkage for Hierarchical Clustering"
   ]
  },
  {
   "cell_type": "code",
   "execution_count": 35,
   "metadata": {},
   "outputs": [
    {
     "data": {
      "image/png": "[encoded data removed]",
      "text/plain": [
       "<Figure size 576x432 with 1 Axes>"
      ]
     },
     "metadata": {
      "needs_background": "light"
     },
     "output_type": "display_data"
    },
    {
     "name": "stdout",
     "output_type": "stream",
     "text": [
      "Wall time: 1min 11s\n"
     ]
    }
   ],
   "source": [
    "%%time\n",
    "SL_mergings = linkage(merged_DateFrame_scaled, method=\"single\", metric='euclidean')\n",
    "dendrogram(SL_mergings)\n",
    "plt.show()"
   ]
  },
  {
   "cell_type": "code",
   "execution_count": 114,
   "metadata": {},
   "outputs": [
    {
     "name": "stdout",
     "output_type": "stream",
     "text": [
      "Silhouette score is 0.30476262096644424\n",
      "Silhouette score is 0.4521355438549282\n",
      "Silhouette score is 0.4874644063065225\n",
      "Silhouette score is 0.48772283691388535\n",
      "Silhouette score is 0.5310586265742421\n",
      "Silhouette score is 0.4668069802878872\n",
      "Silhouette score is 0.4610177919152861\n"
     ]
    }
   ],
   "source": [
    "# Silhouette analysis for single linkage Clustering\n",
    "range_n_clusters = [2, 3, 4, 5, 6, 7, 8]\n",
    "\n",
    "for num_cluster in range_n_clusters: \n",
    "\n",
    "    cluster_single = AgglomerativeClustering(n_clusters=num_cluster, affinity='euclidean',linkage='single')\n",
    "\n",
    "    cluster_single.fit_predict(merged_DateFrame_scaled)\n",
    "    merged_DateFrame_scaled[\"Cluster\"] = cluster_single.labels_\n",
    "\n",
    "    silhouette_avg = silhouette_score(merged_DateFrame_scaled, merged_DateFrame_scaled[\"Cluster\"])\n",
    "    print(\"Silhouette score is\", format(silhouette_avg))\n"
   ]
  },
  {
   "cell_type": "markdown",
   "metadata": {},
   "source": [
    "# Complete Linkage for Hierarchical Clustering\n"
   ]
  },
  {
   "cell_type": "code",
   "execution_count": 36,
   "metadata": {},
   "outputs": [
    {
     "data": {
      "image/png": "[encoded data removed]",
      "text/plain": [
       "<Figure size 576x432 with 1 Axes>"
      ]
     },
     "metadata": {
      "needs_background": "light"
     },
     "output_type": "display_data"
    },
    {
     "name": "stdout",
     "output_type": "stream",
     "text": [
      "Wall time: 1min 11s\n"
     ]
    }
   ],
   "source": [
    "%%time\n",
    "CL_mergings = linkage(merged_DateFrame_scaled, method=\"complete\", metric='euclidean')\n",
    "dendrogram(CL_mergings)\n",
    "plt.show()"
   ]
  },
  {
   "cell_type": "code",
   "execution_count": 113,
   "metadata": {},
   "outputs": [
    {
     "name": "stdout",
     "output_type": "stream",
     "text": [
      "Silhouette score is 0.6443060097862378\n",
      "Silhouette score is 0.47476138657702704\n",
      "Silhouette score is 0.5763233906074967\n",
      "Silhouette score is 0.594551524313311\n",
      "Silhouette score is 0.5961072522396015\n",
      "Silhouette score is 0.6374789453126763\n",
      "Silhouette score is 0.607062308493869\n"
     ]
    }
   ],
   "source": [
    "# Silhouette analysis for Complete linkage Clustering\n",
    "range_n_clusters = [2, 3, 4, 5, 6, 7, 8]\n",
    "\n",
    "for num_cluster in range_n_clusters: \n",
    "\n",
    "    cluster_complete = AgglomerativeClustering(n_clusters=num_cluster, affinity='euclidean',linkage='complete')\n",
    "\n",
    "    cluster_complete.fit_predict(merged_DateFrame_scaled)\n",
    "    merged_DateFrame_scaled[\"Cluster\"] = cluster_complete.labels_\n",
    "\n",
    "    silhouette_avg = silhouette_score(merged_DateFrame_scaled, merged_DateFrame_scaled[\"Cluster\"])\n",
    "    print(\"Silhouette score is\", format(silhouette_avg))\n",
    "\n"
   ]
  },
  {
   "cell_type": "markdown",
   "metadata": {},
   "source": [
    "# Average Linkage for Hierarchical Clustering"
   ]
  },
  {
   "cell_type": "code",
   "execution_count": 37,
   "metadata": {},
   "outputs": [
    {
     "data": {
      "image/png": "[encoded data removed]",
      "text/plain": [
       "<Figure size 576x432 with 1 Axes>"
      ]
     },
     "metadata": {
      "needs_background": "light"
     },
     "output_type": "display_data"
    },
    {
     "name": "stdout",
     "output_type": "stream",
     "text": [
      "Wall time: 1min 12s\n"
     ]
    }
   ],
   "source": [
    "%%time\n",
    "AL_mergings = linkage(merged_DateFrame_scaled, method=\"average\", metric='euclidean')\n",
    "dendrogram(AL_mergings)\n",
    "plt.show()"
   ]
  },
  {
   "cell_type": "code",
   "execution_count": 117,
   "metadata": {},
   "outputs": [
    {
     "name": "stdout",
     "output_type": "stream",
     "text": [
      "Silhouette score is 0.48713001858049176\n",
      "Silhouette score is 0.6045107242659497\n",
      "Silhouette score is 0.6279246321380272\n",
      "Silhouette score is 0.5370208515413372\n",
      "Silhouette score is 0.574631869376242\n",
      "Silhouette score is 0.6120240089241442\n",
      "Silhouette score is 0.709074923494752\n"
     ]
    }
   ],
   "source": [
    "# Silhouette analysis for average linkage Clustering\n",
    "range_n_clusters = [2, 3, 4, 5, 6, 7, 8]\n",
    "\n",
    "for num_cluster in range_n_clusters: \n",
    "\n",
    "    cluster_average = AgglomerativeClustering(n_clusters=num_cluster, affinity='euclidean',linkage='average')\n",
    "\n",
    "    cluster_average.fit_predict(merged_DateFrame_scaled)\n",
    "    merged_DateFrame_scaled[\"Cluster\"] = cluster_average.labels_\n",
    "\n",
    "    silhouette_avg = silhouette_score(merged_DateFrame_scaled, merged_DateFrame_scaled[\"Cluster\"])\n",
    "    print(\"Silhouette score is\", format(silhouette_avg))\n"
   ]
  },
  {
   "cell_type": "markdown",
   "metadata": {},
   "source": [
    "# Hierarchical Clustering with 3 Clusters"
   ]
  },
  {
   "cell_type": "code",
   "execution_count": 41,
   "metadata": {},
   "outputs": [
    {
     "name": "stdout",
     "output_type": "stream",
     "text": [
      "Wall time: 378 ms\n"
     ]
    },
    {
     "data": {
      "text/plain": [
       "array([0, 0, 0, ..., 0, 0, 0])"
      ]
     },
     "execution_count": 41,
     "metadata": {},
     "output_type": "execute_result"
    }
   ],
   "source": [
    "%%time\n",
    "Cluster_Number = cut_tree(AL_mergings, n_clusters=3).reshape(-1, )\n",
    "Cluster_Number"
   ]
  },
  {
   "cell_type": "code",
   "execution_count": 42,
   "metadata": {},
   "outputs": [
    {
     "name": "stdout",
     "output_type": "stream",
     "text": [
      "Wall time: 1.03 ms\n"
     ]
    },
    {
     "data": {
      "text/html": [
       "<div>\n",
       "<style scoped>\n",
       "    .dataframe tbody tr th:only-of-type {\n",
       "        vertical-align: middle;\n",
       "    }\n",
       "\n",
       "    .dataframe tbody tr th {\n",
       "        vertical-align: top;\n",
       "    }\n",
       "\n",
       "    .dataframe thead th {\n",
       "        text-align: right;\n",
       "    }\n",
       "</style>\n",
       "<table border=\"1\" class=\"dataframe\">\n",
       "  <thead>\n",
       "    <tr style=\"text-align: right;\">\n",
       "      <th></th>\n",
       "      <th>CustomerID</th>\n",
       "      <th>Monetary</th>\n",
       "      <th>Frequency</th>\n",
       "      <th>Recency</th>\n",
       "      <th>Cluster_Id</th>\n",
       "      <th>Cluster_Labels</th>\n",
       "      <th>Cluster_Number</th>\n",
       "    </tr>\n",
       "  </thead>\n",
       "  <tbody>\n",
       "    <tr>\n",
       "      <th>0</th>\n",
       "      <td>12346.0</td>\n",
       "      <td>0.00</td>\n",
       "      <td>2</td>\n",
       "      <td>325</td>\n",
       "      <td>0</td>\n",
       "      <td>0</td>\n",
       "      <td>0</td>\n",
       "    </tr>\n",
       "    <tr>\n",
       "      <th>1</th>\n",
       "      <td>12347.0</td>\n",
       "      <td>4310.00</td>\n",
       "      <td>182</td>\n",
       "      <td>1</td>\n",
       "      <td>4</td>\n",
       "      <td>0</td>\n",
       "      <td>0</td>\n",
       "    </tr>\n",
       "    <tr>\n",
       "      <th>2</th>\n",
       "      <td>12348.0</td>\n",
       "      <td>1797.24</td>\n",
       "      <td>31</td>\n",
       "      <td>74</td>\n",
       "      <td>2</td>\n",
       "      <td>0</td>\n",
       "      <td>0</td>\n",
       "    </tr>\n",
       "    <tr>\n",
       "      <th>3</th>\n",
       "      <td>12349.0</td>\n",
       "      <td>1757.55</td>\n",
       "      <td>73</td>\n",
       "      <td>18</td>\n",
       "      <td>2</td>\n",
       "      <td>0</td>\n",
       "      <td>0</td>\n",
       "    </tr>\n",
       "    <tr>\n",
       "      <th>4</th>\n",
       "      <td>12350.0</td>\n",
       "      <td>334.40</td>\n",
       "      <td>17</td>\n",
       "      <td>309</td>\n",
       "      <td>0</td>\n",
       "      <td>0</td>\n",
       "      <td>0</td>\n",
       "    </tr>\n",
       "  </tbody>\n",
       "</table>\n",
       "</div>"
      ],
      "text/plain": [
       "   CustomerID  Monetary  Frequency  Recency  Cluster_Id  Cluster_Labels  \\\n",
       "0     12346.0      0.00          2      325           0               0   \n",
       "1     12347.0   4310.00        182        1           4               0   \n",
       "2     12348.0   1797.24         31       74           2               0   \n",
       "3     12349.0   1757.55         73       18           2               0   \n",
       "4     12350.0    334.40         17      309           0               0   \n",
       "\n",
       "   Cluster_Number  \n",
       "0               0  \n",
       "1               0  \n",
       "2               0  \n",
       "3               0  \n",
       "4               0  "
      ]
     },
     "execution_count": 42,
     "metadata": {},
     "output_type": "execute_result"
    }
   ],
   "source": [
    "%%time\n",
    "mergedDateFrame['Cluster_Number'] = Cluster_Number\n",
    "mergedDateFrame.head()"
   ]
  },
  {
   "cell_type": "markdown",
   "metadata": {},
   "source": [
    "# Using Box Plot to visualise the plot of Monetary vs Cluster_Number"
   ]
  },
  {
   "cell_type": "code",
   "execution_count": 44,
   "metadata": {},
   "outputs": [
    {
     "data": {
      "text/plain": [
       "<matplotlib.axes._subplots.AxesSubplot at 0x251d5fe5048>"
      ]
     },
     "execution_count": 44,
     "metadata": {},
     "output_type": "execute_result"
    },
    {
     "data": {
      "image/png": "[encoded data removed]",
      "text/plain": [
       "<Figure size 576x432 with 1 Axes>"
      ]
     },
     "metadata": {
      "needs_background": "light"
     },
     "output_type": "display_data"
    }
   ],
   "source": [
    "sns.boxplot(x='Cluster_Number', y='Monetary', data=mergedDateFrame)"
   ]
  },
  {
   "cell_type": "markdown",
   "metadata": {},
   "source": [
    "# Using Box Plot to visualise the plot of Frequency vs Cluster_Number"
   ]
  },
  {
   "cell_type": "code",
   "execution_count": 45,
   "metadata": {},
   "outputs": [
    {
     "data": {
      "text/plain": [
       "<matplotlib.axes._subplots.AxesSubplot at 0x251dde6ee48>"
      ]
     },
     "execution_count": 45,
     "metadata": {},
     "output_type": "execute_result"
    },
    {
     "data": {
      "image/png": "[encoded data removed]",
      "text/plain": [
       "<Figure size 576x432 with 1 Axes>"
      ]
     },
     "metadata": {
      "needs_background": "light"
     },
     "output_type": "display_data"
    }
   ],
   "source": [
    "sns.boxplot(x='Cluster_Number', y='Frequency', data=mergedDateFrame)"
   ]
  },
  {
   "cell_type": "markdown",
   "metadata": {},
   "source": [
    "# Using Box Plot to visualise the plot of Recency vs Cluster_Number"
   ]
  },
  {
   "cell_type": "code",
   "execution_count": 46,
   "metadata": {},
   "outputs": [
    {
     "data": {
      "text/plain": [
       "<matplotlib.axes._subplots.AxesSubplot at 0x251dd930ec8>"
      ]
     },
     "execution_count": 46,
     "metadata": {},
     "output_type": "execute_result"
    },
    {
     "data": {
      "image/png": "[encoded data removed]",
      "text/plain": [
       "<Figure size 576x432 with 1 Axes>"
      ]
     },
     "metadata": {
      "needs_background": "light"
     },
     "output_type": "display_data"
    }
   ],
   "source": [
    "sns.boxplot(x='Cluster_Number', y='Recency', data=mergedDateFrame)"
   ]
  },
  {
   "cell_type": "markdown",
   "metadata": {},
   "source": [
    "# RESULTS"
   ]
  },
  {
   "cell_type": "markdown",
   "metadata": {},
   "source": [
    "In this part Hierarchical Clustering was used to segment the customer based on RFM(Recency, Frequency, Monetary), which helped to identify the most significant customers for the store and who could be targeted for future products. This will assist the store in increasing sales. In this Hierarchical Clustering, a total of three cluster labels were used. The following are the outcomes.\n",
    "\n",
    "•\tCustomers in cluster label \"2\" have made the most transactions and spent the most money. Customers who fall into this category are the most valuable to the store since they can be targeted for future promotions and products. We can save time and money by focusing on the most important customers.\n",
    "\n",
    "•\tCustomers in cluster label \"2\" are the most frequent buyers and come into the store the most frequently.\n",
    "\n",
    "•\tCustomers with the cluster label \"0\" aren't recent consumers and so aren't as essential to the company as others. It will not result in a loss if we do not target them for future products and promotions.\n"
   ]
  },
  {
   "cell_type": "markdown",
   "metadata": {},
   "source": [
    "# DBSCAN Clustering\n"
   ]
  },
  {
   "cell_type": "code",
   "execution_count": 62,
   "metadata": {},
   "outputs": [],
   "source": [
    "from sklearn.cluster import DBSCAN\n",
    "from sklearn.preprocessing import StandardScaler"
   ]
  },
  {
   "cell_type": "markdown",
   "metadata": {},
   "source": [
    "# Implementation of DBSCAN"
   ]
  },
  {
   "cell_type": "code",
   "execution_count": 75,
   "metadata": {},
   "outputs": [
    {
     "name": "stdout",
     "output_type": "stream",
     "text": [
      "Wall time: 227 ms\n"
     ]
    },
    {
     "data": {
      "text/plain": [
       "DBSCAN(algorithm='auto', eps=0.8, leaf_size=30, metric='euclidean',\n",
       "       metric_params=None, min_samples=7, n_jobs=None, p=None)"
      ]
     },
     "execution_count": 75,
     "metadata": {},
     "output_type": "execute_result"
    }
   ],
   "source": [
    "%%time\n",
    "# create an object\n",
    "dbscan = DBSCAN(eps=0.8, min_samples=7, metric='euclidean')\n",
    "\n",
    "# fit the model\n",
    "dbscan.fit(merged_DateFrame_scaled)"
   ]
  },
  {
   "cell_type": "markdown",
   "metadata": {},
   "source": [
    "# Silhouette Score Analysis"
   ]
  },
  {
   "cell_type": "code",
   "execution_count": 76,
   "metadata": {},
   "outputs": [
    {
     "name": "stdout",
     "output_type": "stream",
     "text": [
      "Silhouette score is 0.6949788314743802\n"
     ]
    }
   ],
   "source": [
    "from sklearn.metrics import silhouette_score\n",
    "\n",
    "dbscan_label = dbscan.labels_   \n",
    "\n",
    "# silhouette score\n",
    "silhouette_avg = silhouette_score(merged_DateFrame_scaled, dbscan_label)\n",
    "print(\"Silhouette score is\", format(silhouette_avg))"
   ]
  },
  {
   "cell_type": "code",
   "execution_count": null,
   "metadata": {},
   "outputs": [],
   "source": [
    "# Silhouette analysis\n",
    "min_points = [7, 6, 5, 4,3 ]\n",
    "\n",
    "for min_po in min_points: \n",
    "\n",
    "     # create an object\n",
    "    dbscan = DBSCAN(eps=0.8, min_samples=min_po, metric='euclidean')\n",
    "\n",
    "    # fit the model\n",
    "    dbscan.fit(merged_DateFrame_scaled)\n",
    "\n",
    "    dbscan_label = dbscan.labels_\n",
    "    silhouette_avg = silhouette_score(merged_DateFrame_scaled, dbscan_label)\n",
    "    print(\"Silhouette score is\", format(silhouette_avg))\n"
   ]
  },
  {
   "cell_type": "markdown",
   "metadata": {},
   "source": [
    "# Labeling Clusters"
   ]
  },
  {
   "cell_type": "code",
   "execution_count": 61,
   "metadata": {},
   "outputs": [
    {
     "data": {
      "text/html": [
       "<div>\n",
       "<style scoped>\n",
       "    .dataframe tbody tr th:only-of-type {\n",
       "        vertical-align: middle;\n",
       "    }\n",
       "\n",
       "    .dataframe tbody tr th {\n",
       "        vertical-align: top;\n",
       "    }\n",
       "\n",
       "    .dataframe thead th {\n",
       "        text-align: right;\n",
       "    }\n",
       "</style>\n",
       "<table border=\"1\" class=\"dataframe\">\n",
       "  <thead>\n",
       "    <tr style=\"text-align: right;\">\n",
       "      <th></th>\n",
       "      <th>Monetary</th>\n",
       "      <th>Frequency</th>\n",
       "      <th>Recency</th>\n",
       "      <th>cluster_label</th>\n",
       "    </tr>\n",
       "  </thead>\n",
       "  <tbody>\n",
       "    <tr>\n",
       "      <th>0</th>\n",
       "      <td>-0.723738</td>\n",
       "      <td>-0.752888</td>\n",
       "      <td>2.301611</td>\n",
       "      <td>0</td>\n",
       "    </tr>\n",
       "    <tr>\n",
       "      <th>1</th>\n",
       "      <td>1.731617</td>\n",
       "      <td>1.042467</td>\n",
       "      <td>-0.906466</td>\n",
       "      <td>0</td>\n",
       "    </tr>\n",
       "    <tr>\n",
       "      <th>2</th>\n",
       "      <td>0.300128</td>\n",
       "      <td>-0.463636</td>\n",
       "      <td>-0.183658</td>\n",
       "      <td>0</td>\n",
       "    </tr>\n",
       "    <tr>\n",
       "      <th>3</th>\n",
       "      <td>0.277517</td>\n",
       "      <td>-0.044720</td>\n",
       "      <td>-0.738141</td>\n",
       "      <td>0</td>\n",
       "    </tr>\n",
       "    <tr>\n",
       "      <th>4</th>\n",
       "      <td>-0.533235</td>\n",
       "      <td>-0.603275</td>\n",
       "      <td>2.143188</td>\n",
       "      <td>0</td>\n",
       "    </tr>\n",
       "  </tbody>\n",
       "</table>\n",
       "</div>"
      ],
      "text/plain": [
       "   Monetary  Frequency   Recency  cluster_label\n",
       "0 -0.723738  -0.752888  2.301611              0\n",
       "1  1.731617   1.042467 -0.906466              0\n",
       "2  0.300128  -0.463636 -0.183658              0\n",
       "3  0.277517  -0.044720 -0.738141              0\n",
       "4 -0.533235  -0.603275  2.143188              0"
      ]
     },
     "execution_count": 61,
     "metadata": {},
     "output_type": "execute_result"
    }
   ],
   "source": [
    "merged_DateFrame_scaled['cluster_label']=mergedDateFrame.labels_\n",
    "\n",
    "merged_DateFrame_scaled.head()"
   ]
  },
  {
   "cell_type": "markdown",
   "metadata": {},
   "source": [
    "# Using Box Plot to visualise the plot of Monetary vs Cluster_Number ,Frequency vs Cluster_Number and Recency vs Cluster_Number"
   ]
  },
  {
   "cell_type": "code",
   "execution_count": 65,
   "metadata": {},
   "outputs": [
    {
     "data": {
      "image/png": "[encoded data removed]",
      "text/plain": [
       "<Figure size 576x432 with 1 Axes>"
      ]
     },
     "metadata": {
      "needs_background": "light"
     },
     "output_type": "display_data"
    },
    {
     "data": {
      "image/png": "[encoded data removed]",
      "text/plain": [
       "<Figure size 576x432 with 1 Axes>"
      ]
     },
     "metadata": {
      "needs_background": "light"
     },
     "output_type": "display_data"
    },
    {
     "data": {
      "image/png": "[encoded data removed]",
      "text/plain": [
       "<Figure size 576x432 with 1 Axes>"
      ]
     },
     "metadata": {
      "needs_background": "light"
     },
     "output_type": "display_data"
    }
   ],
   "source": [
    "for c in merged_DateFrame_scaled.columns[:-1]:\n",
    "    plt.figure(figsize=(8,6))\n",
    "    sns.boxplot(data=merged_DateFrame_scaled, y=c, x='cluster_label')\n",
    "\n",
    "    plt.show()"
   ]
  },
  {
   "cell_type": "markdown",
   "metadata": {},
   "source": [
    "# RESULTS"
   ]
  },
  {
   "cell_type": "markdown",
   "metadata": {},
   "source": [
    "#DBSCAN (Density-based spatial clustering of applications with noise) clustering was used to segment the customer based on RFM(Recency, Frequency, Monetary), which helped to identify the most significant customers for the store and who could be targeted for future products. This will assist the store in increasing sales. The following are the outcomes.\n",
    "\n",
    "•\tThe customer who falls in cluster label \"0 \" is not a recent buyer, and hence is less important to our company than the rest.\n",
    "\n",
    "•\tThe customer who falls in cluster label \"-1 \" are the customer who has the highest frequency of visiting the store.\n",
    "\n",
    "•\tCustomers with the cluster label \"-1\" have made the most retail purchases and spent the most money. These are the most important customers for the store. For future promotions and new items, this consumer should be targeted.\n"
   ]
  }
 ],
 "metadata": {
  "kernelspec": {
   "display_name": "Python 3",
   "language": "python",
   "name": "python3"
  },
  "language_info": {
   "codemirror_mode": {
    "name": "ipython",
    "version": 3
   },
   "file_extension": ".py",
   "mimetype": "text/x-python",
   "name": "python",
   "nbconvert_exporter": "python",
   "pygments_lexer": "ipython3",
   "version": "3.7.6"
  }
 },
 "nbformat": 4,
 "nbformat_minor": 4
}
